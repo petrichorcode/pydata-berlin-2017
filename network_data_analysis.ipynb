{
 "cells": [
  {
   "cell_type": "code",
   "execution_count": 72,
   "metadata": {
    "collapsed": false
   },
   "outputs": [],
   "source": [
    "#Personal Traffic Flow\n",
    "from bokeh.charts import Line, output_file, show\n",
    "import csv\n",
    "\n",
    "with open('/Users/aibello/Documents/pydata/wednesday_capture.csv', newline='') as csvfile:\n",
    "    reader = csv.reader(csvfile)\n",
    "    next(reader)\n",
    "    data=[]\n",
    "    current_time=[]\n",
    "    current_length=0\n",
    "    for row in reader:\n",
    "        time=row[1]\n",
    "        if current_time==time:\n",
    "            current_length += int(row[5])\n",
    "        \n",
    "        else:\n",
    "            current_time=time\n",
    "            data.append(float (current_length))\n",
    "            current_length=int(row[5])\n",
    "\n",
    "line= Line(data[:300], title=\"Packet Flow for the day first 300\", legend=\"top_right\", ylabel='Length in Bytes',xlabel='Time_Aggregate', color='#000080')\n",
    "\n",
    "#output_file(\"personal_Bandwidth2_300.html\")\n",
    "# show result\n",
    "show(line)\n"
   ]
  },
  {
   "cell_type": "code",
   "execution_count": 39,
   "metadata": {
    "collapsed": false
   },
   "outputs": [
    {
     "name": "stderr",
     "output_type": "stream",
     "text": [
      "/Users/aibello/anaconda/lib/python3.6/site-packages/bokeh/util/deprecation.py:34: BokehDeprecationWarning: bokeh.io.hplot() was deprecated in Bokeh 0.12.0 and will be removed, use bokeh.models.layouts.Row instead.\n",
      "  warn(message)\n"
     ]
    }
   ],
   "source": [
    "from bokeh.charts import Bar, output_file, show, hplot\n",
    "\n",
    "#Personal_Capture=345.8Mb,122Mb\n",
    "#work_Capture for Comparison (1.51Gb,897.2Mb,149.6Mb)\n",
    "data = {\n",
    "    'type_of_Comp': ['Personal', 'Work', 'Personal', 'Work'],\n",
    "    'day_of_Week': [ 'Thursday', 'Thursday', 'Wednesday', 'Wednesday'],\n",
    "    'total_in_MB': [ 122, 1046.8, 345.8, 1510,]\n",
    "}\n",
    "\n",
    "# x-axis labels pulled from the interpreter column, stacking labels from Type column\n",
    "bar = Bar(data, values='total_in_MB', label='day_of_Week', stack='type_of_Comp',title=\"How Much Data I use on a typical day\", legend='top_left', width=300)\n",
    "\n",
    "output_file(\"total_bandwidth.html\")\n",
    "show(hplot(bar))\n"
   ]
  },
  {
   "cell_type": "code",
   "execution_count": 71,
   "metadata": {
    "collapsed": false
   },
   "outputs": [],
   "source": [
    "from bokeh.charts import Donut, show\n",
    "import pandas as pd\n",
    "data = pd.Series([73.6,1.1,15.7], index = ['udp','igmp','tcp'])\n",
    "pie_chart = Donut(data)\n",
    "show(pie_chart)"
   ]
  },
  {
   "cell_type": "code",
   "execution_count": null,
   "metadata": {
    "collapsed": true
   },
   "outputs": [],
   "source": []
  }
 ],
 "metadata": {
  "kernelspec": {
   "display_name": "Python 3",
   "language": "python",
   "name": "python3"
  },
  "language_info": {
   "codemirror_mode": {
    "name": "ipython",
    "version": 3
   },
   "file_extension": ".py",
   "mimetype": "text/x-python",
   "name": "python",
   "nbconvert_exporter": "python",
   "pygments_lexer": "ipython3",
   "version": "3.6.0"
  }
 },
 "nbformat": 4,
 "nbformat_minor": 2
}
